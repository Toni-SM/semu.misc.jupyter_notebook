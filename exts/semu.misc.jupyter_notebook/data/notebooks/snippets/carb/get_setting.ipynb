{
 "cells": [
  {
   "cell_type": "markdown",
   "id": "b0a73d2a-08ef-4e4b-b2a0-1d37418aa2f6",
   "metadata": {},
   "source": [
    "### Get settings\n",
    "<hr>"
   ]
  },
  {
   "cell_type": "code",
   "execution_count": null,
   "id": "a45e9c6e-9f34-4d37-9072-f1eb5ed92fe1",
   "metadata": {},
   "outputs": [],
   "source": [
    "import carb\n",
    "\n",
    "# get settings\n",
    "settings = carb.settings.get_settings()"
   ]
  },
  {
   "cell_type": "markdown",
   "id": "8f32bc05-0ffb-47c7-9dc7-c2bc47c19547",
   "metadata": {},
   "source": [
    "**Omniverse application settings** (e.g. extension folders)"
   ]
  },
  {
   "cell_type": "code",
   "execution_count": null,
   "id": "c89af54f-6400-4bd8-9119-b6196cf161a9",
   "metadata": {},
   "outputs": [],
   "source": [
    "folders = settings.get(\"/app/exts/folders\")\n",
    "print(folders)"
   ]
  },
  {
   "cell_type": "markdown",
   "id": "7b2bbc08-a4e9-4927-b6da-1c421cdb5c4d",
   "metadata": {},
   "source": [
    "**Extension settings** (e.g. `docUrl` at `kit/exts/omni.kit.window.extensions/config/extension.toml`)"
   ]
  },
  {
   "cell_type": "code",
   "execution_count": null,
   "id": "5cb91298-44c1-42f3-b0b3-0974fce36046",
   "metadata": {},
   "outputs": [],
   "source": [
    "folders = settings.get(\"/exts/omni.kit.window.extensions/docUrl\")\n",
    "print(folders)"
   ]
  }
 ],
 "metadata": {
  "kernelspec": {
   "display_name": "Embedded Omniverse (Python 3)",
   "language": "python",
   "name": "embedded_omniverse_python3_socket"
  },
  "language_info": {
   "codemirror_mode": {
    "name": "ipython",
    "version": 3
   },
   "file_extension": ".py",
   "mimetype": "text/x-python",
   "name": "python",
   "nbconvert_exporter": "python",
   "pygments_lexer": "ipython3",
   "version": "3.7.13"
  }
 },
 "nbformat": 4,
 "nbformat_minor": 5
}
