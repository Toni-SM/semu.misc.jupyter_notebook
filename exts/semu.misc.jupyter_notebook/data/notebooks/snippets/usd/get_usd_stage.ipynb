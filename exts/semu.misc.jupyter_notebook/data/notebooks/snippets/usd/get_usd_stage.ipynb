{
 "cells": [
  {
   "cell_type": "markdown",
   "id": "b0a73d2a-08ef-4e4b-b2a0-1d37418aa2f6",
   "metadata": {},
   "source": [
    "### USD: Get USD Stage\n",
    "<hr>"
   ]
  },
  {
   "cell_type": "code",
   "execution_count": null,
   "id": "a45e9c6e-9f34-4d37-9072-f1eb5ed92fe1",
   "metadata": {},
   "outputs": [],
   "source": [
    "import omni.usd\n",
    "\n",
    "# get stage\n",
    "stage = omni.usd.get_context().get_stage()\n",
    "print(stage)"
   ]
  }
 ],
 "metadata": {
  "kernelspec": {
   "display_name": "Embedded Omniverse (Python 3)",
   "language": "python",
   "name": "embedded_omniverse_python3_socket"
  },
  "language_info": {
   "codemirror_mode": {
    "name": "ipython",
    "version": 3
   },
   "file_extension": ".py",
   "mimetype": "text/x-python",
   "name": "python",
   "nbconvert_exporter": "python",
   "pygments_lexer": "ipython3",
   "version": "3.7.13"
  }
 },
 "nbformat": 4,
 "nbformat_minor": 5
}
