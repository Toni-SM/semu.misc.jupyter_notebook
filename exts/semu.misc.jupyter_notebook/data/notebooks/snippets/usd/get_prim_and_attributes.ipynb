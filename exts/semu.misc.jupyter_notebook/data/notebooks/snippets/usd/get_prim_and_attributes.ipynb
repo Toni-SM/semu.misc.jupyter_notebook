{
 "cells": [
  {
   "cell_type": "markdown",
   "id": "b0a73d2a-08ef-4e4b-b2a0-1d37418aa2f6",
   "metadata": {},
   "source": [
    "### USD: Get prim and access its attributes\n",
    "<hr>"
   ]
  },
  {
   "cell_type": "code",
   "execution_count": null,
   "id": "a45e9c6e-9f34-4d37-9072-f1eb5ed92fe1",
   "metadata": {},
   "outputs": [],
   "source": [
    "import omni.usd\n",
    "from pxr import Gf\n",
    "\n",
    "# get stage\n",
    "stage = omni.usd.get_context().get_stage()"
   ]
  },
  {
   "cell_type": "markdown",
   "id": "8f32bc05-0ffb-47c7-9dc7-c2bc47c19547",
   "metadata": {},
   "source": [
    "**Get prim** (e.g. `/World/defaultLight` in a new scene: *File > New* menu)"
   ]
  },
  {
   "cell_type": "code",
   "execution_count": null,
   "id": "c89af54f-6400-4bd8-9119-b6196cf161a9",
   "metadata": {},
   "outputs": [],
   "source": [
    "prim = stage.GetPrimAtPath(\"/World/defaultLight\")\n",
    "print(prim)"
   ]
  },
  {
   "cell_type": "markdown",
   "id": "7b2bbc08-a4e9-4927-b6da-1c421cdb5c4d",
   "metadata": {},
   "source": [
    "**Get prim attribute** (e.g. `color`)"
   ]
  },
  {
   "cell_type": "code",
   "execution_count": null,
   "id": "5cb91298-44c1-42f3-b0b3-0974fce36046",
   "metadata": {},
   "outputs": [],
   "source": [
    "attribute = prim.GetAttribute(\"color\")\n",
    "value = attribute.Get()\n",
    "\n",
    "print(f\"attribute: {attribute}\")\n",
    "print(f\"value: {value}\")\n",
    "print(f\"type: {type(value)}\")"
   ]
  },
  {
   "cell_type": "markdown",
   "id": "a5b08b03-5dc4-4c6e-af42-93f55ee0e6b7",
   "metadata": {},
   "source": [
    "**Set prim attribute** (e.g. `color` to `R:255, G:128, B:0`)"
   ]
  },
  {
   "cell_type": "code",
   "execution_count": null,
   "id": "d6176c70-6773-4ae7-96bc-29c54e53eb3f",
   "metadata": {},
   "outputs": [],
   "source": [
    "new_value = Gf.Vec3f(1.0, 0.5, 0.0)\n",
    "attribute = prim.GetAttribute(\"color\")\n",
    "attribute.Set(new_value)\n",
    "\n",
    "print(f\"attribute: {attribute}\")\n",
    "print(f\"value: {attribute.Get()}\")\n",
    "print(f\"type: {type(value)}\")"
   ]
  }
 ],
 "metadata": {
  "kernelspec": {
   "display_name": "Embedded Omniverse (Python 3)",
   "language": "python",
   "name": "embedded_omniverse_python3_socket"
  },
  "language_info": {
   "codemirror_mode": {
    "name": "ipython",
    "version": 3
   },
   "file_extension": ".py",
   "mimetype": "text/x-python",
   "name": "python",
   "nbconvert_exporter": "python",
   "pygments_lexer": "ipython3",
   "version": "3.7.13"
  }
 },
 "nbformat": 4,
 "nbformat_minor": 5
}
