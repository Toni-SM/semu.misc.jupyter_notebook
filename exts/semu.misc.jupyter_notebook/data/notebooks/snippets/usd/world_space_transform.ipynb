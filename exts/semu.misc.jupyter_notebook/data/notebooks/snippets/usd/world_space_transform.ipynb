{
 "cells": [
  {
   "cell_type": "markdown",
   "id": "3e81c525-e9d3-41ba-87c5-19994617f292",
   "metadata": {},
   "source": [
    "### USD: Compute a prim's world-space transform\n",
    "<hr>"
   ]
  },
  {
   "cell_type": "markdown",
   "id": "eb988c9e-326f-4605-8a0c-a5186235898d",
   "metadata": {},
   "source": [
    "**Compute a prim's world-space (local to world) transform** (See [ComputeLocalToWorldTransform](https://graphics.pixar.com/usd/release/api/class_usd_geom_imageable.html#a8e3fb09253ba63d63921f665d63cd270))\n",
    "\n",
    "(e.g. `/World/defaultLight` in a new scene: *File > New* menu)"
   ]
  },
  {
   "cell_type": "code",
   "execution_count": null,
   "id": "3e646c77-2063-4e53-9274-8437b164b6f2",
   "metadata": {},
   "outputs": [],
   "source": [
    "import omni\n",
    "from pxr import Gf, Usd, UsdGeom\n",
    "\n",
    "stage = omni.usd.get_context().get_stage()\n",
    "prim = stage.GetPrimAtPath(\"/World/defaultLight\")\n",
    "\n",
    "# compute world-space transform\n",
    "transform = Gf.Transform()\n",
    "transform.SetMatrix(UsdGeom.Xformable(prim).ComputeLocalToWorldTransform(Usd.TimeCode.Default()))\n",
    "\n",
    "# get position and orientation\n",
    "position = transform.GetTranslation()\n",
    "rotation = transform.GetRotation().GetQuat()\n",
    "\n",
    "print(f\"Prim position: {position}\")\n",
    "print(f\"Prim rotation: {rotation}\")"
   ]
  }
 ],
 "metadata": {
  "kernelspec": {
   "display_name": "Embedded Omniverse (Python 3)",
   "language": "python",
   "name": "embedded_omniverse_python3_socket"
  },
  "language_info": {
   "codemirror_mode": {
    "name": "ipython",
    "version": 3
   },
   "file_extension": ".py",
   "mimetype": "text/x-python",
   "name": "python",
   "nbconvert_exporter": "python",
   "pygments_lexer": "ipython3",
   "version": "3.7.13"
  }
 },
 "nbformat": 4,
 "nbformat_minor": 5
}
