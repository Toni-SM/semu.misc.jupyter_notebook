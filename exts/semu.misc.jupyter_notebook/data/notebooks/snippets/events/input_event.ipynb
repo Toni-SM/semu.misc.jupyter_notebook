{
 "cells": [
  {
   "cell_type": "markdown",
   "id": "638f71d1-619f-4997-93fd-a0bd50c2cfb2",
   "metadata": {},
   "source": [
    "### Events: Input event\n",
    "<hr>"
   ]
  },
  {
   "cell_type": "markdown",
   "id": "5d5631cc-5936-4a95-be4d-0a73218b0d25",
   "metadata": {},
   "source": [
    "#### Keyboard event\n",
    "\n",
    "[carb.input.KeyboardEvent](https://docs.omniverse.nvidia.com/py/kit/docs/api/carb/carb.input.html?#carb.input.KeyboardEvent) has:\n",
    "- **device**: [carb.input.InputDevice](https://docs.omniverse.nvidia.com/py/kit/docs/api/carb/carb.input.html?#carb.input.InputDevice)\n",
    "- **input**: [carb.input.KeyboardInput](https://docs.omniverse.nvidia.com/py/kit/docs/api/carb/carb.input.html?#carb.input.KeyboardInput)\n",
    "- **keyboard**: [carb.input.Keyboard](https://docs.omniverse.nvidia.com/py/kit/docs/api/carb/carb.input.html?#carb.input.Keyboard)\n",
    "- **modifiers**: int\n",
    "- **type**: [carb.input.KeyboardEventType](https://docs.omniverse.nvidia.com/py/kit/docs/api/carb/carb.input.html?#carb.input.KeyboardEventType)"
   ]
  },
  {
   "cell_type": "code",
   "execution_count": null,
   "id": "474a38b0-e549-4678-b673-6d8537bb62c8",
   "metadata": {},
   "outputs": [],
   "source": [
    "import carb.input\n",
    "import omni.appwindow\n",
    "\n",
    "# callback\n",
    "def on_keyboard_event(event):\n",
    "    print(f\"Input event: {event.device} {event.input} {event.keyboard} {event.modifiers} {event.type}\")\n",
    "    # e.g. key A pressed/released\n",
    "    if event.input == carb.input.KeyboardInput.A:\n",
    "        if event.type == carb.input.KeyboardEventType.KEY_PRESS:\n",
    "            print(\"Key A pressed\")\n",
    "        elif event.type == carb.input.KeyboardEventType.KEY_RELEASE:\n",
    "            print(\"Key A released\")\n",
    "\n",
    "# get keyboard\n",
    "keyboard = omni.appwindow.get_default_app_window().get_keyboard()\n",
    "\n",
    "# subscription\n",
    "keyboard_event_sub = (carb.input.acquire_input_interface()\n",
    "                      .subscribe_to_keyboard_events(keyboard, on_keyboard_event))"
   ]
  },
  {
   "cell_type": "code",
   "execution_count": null,
   "id": "72bb9f82-fec6-43c4-bc59-566dd35fe1b5",
   "metadata": {},
   "outputs": [],
   "source": [
    "# unsubscription\n",
    "(carb.input.acquire_input_interface()\n",
    " .unsubscribe_to_keyboard_events(keyboard, keyboard_event_sub))"
   ]
  },
  {
   "cell_type": "markdown",
   "id": "af1ee30d-b5dd-42e5-9f07-9c1a7856101e",
   "metadata": {},
   "source": [
    "#### Mouse event (viewport)\n",
    "\n",
    "[carb.events.IEvent](https://docs.omniverse.nvidia.com/py/kit/docs/api/carb/carb.events.html?#carb.events.IEvent) has:\n",
    "- **type**: int\n",
    "- **sender** id: int\n",
    "- **payload**: dictionary like item with arbitrary data. The mouse event may have the following items:\n",
    "  - `mouse_pos_x`: int\n",
    "  - `mouse_pos_y`: int\n",
    "  - `mouse_pos_z`: int\n",
    "  - `prim_path`: str"
   ]
  },
  {
   "cell_type": "code",
   "execution_count": null,
   "id": "2a2c9e62-2157-415d-8887-dc8e7d9591d0",
   "metadata": {},
   "outputs": [],
   "source": [
    "import carb.input\n",
    "import omni.kit.viewport_legacy\n",
    "\n",
    "# callback\n",
    "def on_viewport_mouse_event(event):\n",
    "    print(f\"Input event: {event.type} {event.sender} {event.payload}\")\n",
    "    # e.g. check for the context menu\n",
    "    if event.type == int(omni.kit.ui.MenuEventType.ACTIVATE):\n",
    "        print(\"Context menu\")\n",
    "\n",
    "# get viewport window\n",
    "viewport_window = omni.kit.viewport_legacy.get_viewport_interface().get_viewport_window()\n",
    "\n",
    "# subscription\n",
    "viewport_mouse_event_sub = (viewport_window.get_mouse_event_stream()\n",
    "                            .create_subscription_to_pop(on_viewport_mouse_event))"
   ]
  },
  {
   "cell_type": "code",
   "execution_count": null,
   "id": "21ee1623-7b8a-4e91-9abb-9c3f9c4d5447",
   "metadata": {},
   "outputs": [],
   "source": [
    "# unsubscription\n",
    "viewport_mouse_event_sub = None"
   ]
  }
 ],
 "metadata": {
  "kernelspec": {
   "display_name": "Embedded Omniverse (Python 3)",
   "language": "python",
   "name": "embedded_omniverse_python3_socket"
  },
  "language_info": {
   "codemirror_mode": {
    "name": "ipython",
    "version": 3
   },
   "file_extension": ".py",
   "mimetype": "text/x-python",
   "name": "python",
   "nbconvert_exporter": "python",
   "pygments_lexer": "ipython3",
   "version": "3.7.13"
  }
 },
 "nbformat": 4,
 "nbformat_minor": 5
}
