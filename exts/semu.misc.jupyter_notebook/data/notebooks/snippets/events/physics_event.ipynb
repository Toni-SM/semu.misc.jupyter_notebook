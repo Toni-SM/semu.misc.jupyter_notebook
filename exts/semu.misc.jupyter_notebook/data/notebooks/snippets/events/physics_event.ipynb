{
 "cells": [
  {
   "cell_type": "markdown",
   "id": "638f71d1-619f-4997-93fd-a0bd50c2cfb2",
   "metadata": {},
   "source": [
    "### Events: Physics event\n",
    "<hr>"
   ]
  },
  {
   "cell_type": "markdown",
   "id": "af1ee30d-b5dd-42e5-9f07-9c1a7856101e",
   "metadata": {},
   "source": [
    "#### Physics event\n",
    "\n",
    "The event callback has as parameter: \n",
    "- **dt**: float"
   ]
  },
  {
   "cell_type": "code",
   "execution_count": null,
   "id": "2a2c9e62-2157-415d-8887-dc8e7d9591d0",
   "metadata": {},
   "outputs": [],
   "source": [
    "import carb.events\n",
    "import omni.physx\n",
    "\n",
    "# callback\n",
    "def on_physics_event(dt):\n",
    "    print(f\"Physics event: {dt}\")\n",
    "\n",
    "# subscription\n",
    "physics_event_sub = (omni.physx.acquire_physx_interface()\n",
    "                     .subscribe_physics_step_events(on_physics_event))"
   ]
  },
  {
   "cell_type": "code",
   "execution_count": null,
   "id": "21ee1623-7b8a-4e91-9abb-9c3f9c4d5447",
   "metadata": {},
   "outputs": [],
   "source": [
    "# unsubscription\n",
    "physics_event_sub = None"
   ]
  }
 ],
 "metadata": {
  "kernelspec": {
   "display_name": "Embedded Omniverse (Python 3)",
   "language": "python",
   "name": "embedded_omniverse_python3_socket"
  },
  "language_info": {
   "codemirror_mode": {
    "name": "ipython",
    "version": 3
   },
   "file_extension": ".py",
   "mimetype": "text/x-python",
   "name": "python",
   "nbconvert_exporter": "python",
   "pygments_lexer": "ipython3",
   "version": "3.7.13"
  }
 },
 "nbformat": 4,
 "nbformat_minor": 5
}
