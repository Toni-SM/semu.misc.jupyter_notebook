{
 "cells": [
  {
   "cell_type": "markdown",
   "id": "638f71d1-619f-4997-93fd-a0bd50c2cfb2",
   "metadata": {},
   "source": [
    "### Events: Update event\n",
    "<hr>"
   ]
  },
  {
   "cell_type": "markdown",
   "id": "af1ee30d-b5dd-42e5-9f07-9c1a7856101e",
   "metadata": {},
   "source": [
    "#### Update event\n",
    "\n",
    "[carb.events.IEvent](https://docs.omniverse.nvidia.com/py/kit/docs/api/carb/carb.events.html?#carb.events.IEvent) has:\n",
    "- **type**: int\n",
    "- **sender** id: int\n",
    "- **payload**: dictionary like item with arbitrary data. The update event may have the following items:\n",
    "  - `SWHFrameNumber`: int\n",
    "  - `dt`: float"
   ]
  },
  {
   "cell_type": "code",
   "execution_count": null,
   "id": "2a2c9e62-2157-415d-8887-dc8e7d9591d0",
   "metadata": {},
   "outputs": [],
   "source": [
    "import carb.events\n",
    "import omni.kit.app\n",
    "\n",
    "# callback\n",
    "def on_update_event(event):\n",
    "    print(f\"Update event: {event.type} {event.sender} {event.payload}\")\n",
    "\n",
    "# subscription\n",
    "update_event_sub = (omni.kit.app.get_app()\n",
    "                    .get_update_event_stream()\n",
    "                    .create_subscription_to_pop(on_update_event, name=\"subscription Name\"))"
   ]
  },
  {
   "cell_type": "code",
   "execution_count": null,
   "id": "21ee1623-7b8a-4e91-9abb-9c3f9c4d5447",
   "metadata": {},
   "outputs": [],
   "source": [
    "# unsubscription\n",
    "update_event_sub = None"
   ]
  }
 ],
 "metadata": {
  "kernelspec": {
   "display_name": "Embedded Omniverse (Python 3)",
   "language": "python",
   "name": "embedded_omniverse_python3_socket"
  },
  "language_info": {
   "codemirror_mode": {
    "name": "ipython",
    "version": 3
   },
   "file_extension": ".py",
   "mimetype": "text/x-python",
   "name": "python",
   "nbconvert_exporter": "python",
   "pygments_lexer": "ipython3",
   "version": "3.7.13"
  }
 },
 "nbformat": 4,
 "nbformat_minor": 5
}
