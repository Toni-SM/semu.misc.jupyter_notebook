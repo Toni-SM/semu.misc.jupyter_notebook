{
 "cells": [
  {
   "cell_type": "markdown",
   "id": "638f71d1-619f-4997-93fd-a0bd50c2cfb2",
   "metadata": {},
   "source": [
    "### Events: USD stage event\n",
    "<hr>"
   ]
  },
  {
   "cell_type": "markdown",
   "id": "8f72ba70-f6e9-4219-be5a-896129ec7f88",
   "metadata": {},
   "source": [
    "#### Stage event\n",
    "\n",
    "[carb.events.IEvent](https://docs.omniverse.nvidia.com/py/kit/docs/api/carb/carb.events.html?#carb.events.IEvent) has:\n",
    "- **type**: int ([omni.usd.StageEventType](https://docs.omniverse.nvidia.com/py/kit/source/extensions/omni.usd/docs/index.html?#omni.usd.StageEventType))\n",
    "- **sender** id: int\n",
    "- **payload**: dictionary like item with arbitrary data"
   ]
  },
  {
   "cell_type": "code",
   "execution_count": null,
   "id": "474a38b0-e549-4678-b673-6d8537bb62c8",
   "metadata": {},
   "outputs": [],
   "source": [
    "import carb.events\n",
    "import omni.usd\n",
    "\n",
    "# callback\n",
    "def on_stage_event(event):\n",
    "    print(f\"Stage event: {event.type} {event.sender} {event.payload}\")\n",
    "    if event.type == int(omni.usd.StageEventType.SAVED):\n",
    "        pass\n",
    "    elif event.type == int(omni.usd.StageEventType.SAVE_FAILED):\n",
    "        pass\n",
    "    elif event.type == int(omni.usd.StageEventType.OPENING):\n",
    "        pass\n",
    "    elif event.type == int(omni.usd.StageEventType.OPENED):\n",
    "        pass\n",
    "    elif event.type == int(omni.usd.StageEventType.OPEN_FAILED):\n",
    "        pass\n",
    "    elif event.type == int(omni.usd.StageEventType.CLOSING):\n",
    "        pass\n",
    "    elif event.type == int(omni.usd.StageEventType.CLOSED):\n",
    "        pass\n",
    "    elif event.type == int(omni.usd.StageEventType.SELECTION_CHANGED):\n",
    "        pass\n",
    "    elif event.type == int(omni.usd.StageEventType.ASSETS_LOADED):\n",
    "        pass\n",
    "    elif event.type == int(omni.usd.StageEventType.ASSETS_LOAD_ABORTED):\n",
    "        pass\n",
    "    elif event.type == int(omni.usd.StageEventType.GIZMO_TRACKING_CHANGED):\n",
    "        pass\n",
    "    elif event.type == int(omni.usd.StageEventType.MDL_PARAM_LOADED):\n",
    "        pass\n",
    "    elif event.type == int(omni.usd.StageEventType.SETTINGS_LOADED):\n",
    "        pass\n",
    "    elif event.type == int(omni.usd.StageEventType.SETTINGS_SAVING):\n",
    "        pass\n",
    "    elif event.type == int(omni.usd.StageEventType.OMNIGRAPH_START_PLAY):\n",
    "        pass\n",
    "    elif event.type == int(omni.usd.StageEventType.OMNIGRAPH_STOP_PLAY):\n",
    "        pass\n",
    "    elif event.type == int(omni.usd.StageEventType.SIMULATION_START_PLAY):\n",
    "        pass\n",
    "    elif event.type == int(omni.usd.StageEventType.SIMULATION_STOP_PLAY):\n",
    "        pass\n",
    "    elif event.type == int(omni.usd.StageEventType.ANIMATION_START_PLAY):\n",
    "        pass\n",
    "    elif event.type == int(omni.usd.StageEventType.ANIMATION_STOP_PLAY):\n",
    "        pass\n",
    "    elif event.type == int(omni.usd.StageEventType.DIRTY_STATE_CHANGED):\n",
    "        pass\n",
    "\n",
    "# subscription \n",
    "stage_event_sub = (omni.usd.get_context()\n",
    "                   .get_stage_event_stream()\n",
    "                   .create_subscription_to_pop(on_stage_event, name=\"subscription name\"))"
   ]
  },
  {
   "cell_type": "code",
   "execution_count": null,
   "id": "9cef81ff-14c5-492e-9733-edf91f18e319",
   "metadata": {},
   "outputs": [],
   "source": [
    "# unsubscription\n",
    "stage_event_sub = None"
   ]
  }
 ],
 "metadata": {
  "kernelspec": {
   "display_name": "Embedded Omniverse (Python 3)",
   "language": "python",
   "name": "embedded_omniverse_python3_socket"
  },
  "language_info": {
   "codemirror_mode": {
    "name": "ipython",
    "version": 3
   },
   "file_extension": ".py",
   "mimetype": "text/x-python",
   "name": "python",
   "nbconvert_exporter": "python",
   "pygments_lexer": "ipython3",
   "version": "3.7.13"
  }
 },
 "nbformat": 4,
 "nbformat_minor": 5
}
