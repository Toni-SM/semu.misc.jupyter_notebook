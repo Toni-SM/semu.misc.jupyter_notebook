{
 "cells": [
  {
   "cell_type": "markdown",
   "id": "638f71d1-619f-4997-93fd-a0bd50c2cfb2",
   "metadata": {},
   "source": [
    "### Events: Timeline event\n",
    "<hr>"
   ]
  },
  {
   "cell_type": "markdown",
   "id": "af1ee30d-b5dd-42e5-9f07-9c1a7856101e",
   "metadata": {},
   "source": [
    "#### Timeline event\n",
    "\n",
    "[carb.events.IEvent](https://docs.omniverse.nvidia.com/py/kit/docs/api/carb/carb.events.html?#carb.events.IEvent) has:\n",
    "- **type**: int ([omni.timeline.TimelineEventType](https://docs.omniverse.nvidia.com/py/kit/source/extensions/omni.timeline/docs/index.html?#omni.timeline.TimelineEventType))\n",
    "- **sender** id: int\n",
    "- **payload**: dictionary like item with arbitrary data. The timeline event may have the following items:\n",
    "  - `currentTime`: float\n",
    "  - `startTime`: float\n",
    "  - `endTime`: float\n",
    "  - `timeCodesPerSecond`: float\n",
    "  - `autoUpdate`: bool\n",
    "  - `prerolling`: bool\n",
    "  - `looping`: bool"
   ]
  },
  {
   "cell_type": "code",
   "execution_count": null,
   "id": "2a2c9e62-2157-415d-8887-dc8e7d9591d0",
   "metadata": {},
   "outputs": [],
   "source": [
    "import carb.events\n",
    "import omni.timeline\n",
    "\n",
    "# callback\n",
    "def on_timeline_event(event):\n",
    "    print(f\"Timeline event: {event.type} {event.sender} {event.payload}\")\n",
    "    if event.type == int(omni.timeline.TimelineEventType.PLAY):\n",
    "        pass\n",
    "    elif event.type == int(omni.timeline.TimelineEventType.PAUSE):\n",
    "        pass\n",
    "    elif event.type == int(omni.timeline.TimelineEventType.STOP):\n",
    "        pass\n",
    "    elif event.type == int(omni.timeline.TimelineEventType.CURRENT_TIME_CHANGED):\n",
    "        pass\n",
    "    elif event.type == int(omni.timeline.TimelineEventType.CURRENT_TIME_TICKED):\n",
    "        pass\n",
    "    elif event.type == int(omni.timeline.TimelineEventType.LOOP_MODE_CHANGED):\n",
    "        pass\n",
    "    elif event.type == int(omni.timeline.TimelineEventType.START_TIME_CHANGED):\n",
    "        pass\n",
    "    elif event.type == int(omni.timeline.TimelineEventType.END_TIME_CHANGED):\n",
    "        pass\n",
    "    elif event.type == int(omni.timeline.TimelineEventType.TIME_CODE_PER_SECOND_CHANGED):\n",
    "        pass\n",
    "    elif event.type == int(omni.timeline.TimelineEventType.AUTO_UPDATE_CHANGED):\n",
    "        pass\n",
    "    elif event.type == int(omni.timeline.TimelineEventType.PREROLLING_CHANGED):\n",
    "        pass\n",
    "\n",
    "# subscription\n",
    "timeline_event_sub = (omni.timeline.get_timeline_interface()\n",
    "                      .get_timeline_event_stream()\n",
    "                      .create_subscription_to_pop(on_timeline_event, name=\"subscription Name\"))"
   ]
  },
  {
   "cell_type": "code",
   "execution_count": null,
   "id": "21ee1623-7b8a-4e91-9abb-9c3f9c4d5447",
   "metadata": {},
   "outputs": [],
   "source": [
    "# unsubscription\n",
    "timeline_event_sub = None"
   ]
  }
 ],
 "metadata": {
  "kernelspec": {
   "display_name": "Embedded Omniverse (Python 3)",
   "language": "python",
   "name": "embedded_omniverse_python3_socket"
  },
  "language_info": {
   "codemirror_mode": {
    "name": "ipython",
    "version": 3
   },
   "file_extension": ".py",
   "mimetype": "text/x-python",
   "name": "python",
   "nbconvert_exporter": "python",
   "pygments_lexer": "ipython3",
   "version": "3.7.13"
  }
 },
 "nbformat": 4,
 "nbformat_minor": 5
}
